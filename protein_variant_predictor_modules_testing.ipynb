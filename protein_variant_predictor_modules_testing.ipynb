{
 "cells": [
  {
   "cell_type": "code",
   "execution_count": 35,
   "metadata": {},
   "outputs": [],
   "source": [
    "from collections import defaultdict\n",
    "import re\n",
    "\n",
    "import click\n",
    "import numpy as np\n",
    "import pandas as pd\n",
    "import vcfpy\n",
    "import hgvs.parser\n",
    "from hgvs.sequencevariant import SequenceVariant\n",
    "from tqdm import tqdm\n",
    "from pathlib import Path\n",
    "from pyfaidx import Fasta\n",
    "\n",
    "from pathos.pools import _ProcessPool as Pool"
   ]
  },
  {
   "cell_type": "code",
   "execution_count": 42,
   "metadata": {},
   "outputs": [],
   "source": [
    "class AminoAcidMutationFinder():\n",
    "    def __init__(self, cosmic_df, annotation_df, genome_faidx, cov_bool):\n",
    "        self._cosmic_genome_tree = None\n",
    "        self._annotation_genome_tree = None\n",
    "        self._protein_variant_predictor = None\n",
    "        self._coverage_bool = cov_bool\n",
    "    \n",
    "    \n",
    "    @classmethod\n",
    "    def make_mutation_counts_df(results_):\n",
    "        print('helloworld')\n",
    "        \n",
    "    def find_cell_gene_aa_mutations(self, stream=None, path=None):\n",
    "        print('foobar')\n",
    "        \n",
    "    def find_transcript_mutations(self, paths, processes):\n",
    "        \"\"\"Create a `DataFrame` of mutation counts, where the row indices are\n",
    "        cell names and the column indices are gene names.\"\"\"\n",
    "        \n",
    "        def init_process(aa_mutation_finder):\n",
    "            global current_process_aa_mutation_finder\n",
    "            current_process_aa_mutation_finder = aa_mutation_finder\n",
    "\n",
    "        def process_cell(path):\n",
    "            #print(path)\n",
    "            return (\n",
    "                Path(path).stem,\n",
    "                current_process_aa_mutation_finder \\\n",
    "                    .find_cell_gene_aa_mutations(path=path)\n",
    "            )\n",
    "\n",
    "        if processes > 1:\n",
    "            with Pool(processes, initializer=init_process,\n",
    "                      initargs=(self, )) as pool:\n",
    "                results = list(pool.imap(process_cell, paths)) # got rid of progress bar\n",
    "        else:\n",
    "            init_process(self)\n",
    "            #results = list(map(process_cell, tqdm(paths)))\n",
    "            results = list(map(process_cell, paths)) # testing\n",
    "\n",
    "        return make_mutation_counts_df(results)"
   ]
  },
  {
   "cell_type": "code",
   "execution_count": 43,
   "metadata": {},
   "outputs": [
    {
     "name": "stdout",
     "output_type": "stream",
     "text": [
      "foobar\n",
      "foobar\n",
      "foobar\n",
      "foobar\n",
      "foobar\n",
      "helloworld\n"
     ]
    }
   ],
   "source": [
    "cosmic_df = annotation_df = genome_faidx = cov_bool = '/dummy/path'\n",
    "aa_mutation_finder = AminoAcidMutationFinder(cosmic_df, annotation_df, genome_faidx, cov_bool)\n",
    "\n",
    "num_processes = 4\n",
    "input_files = ['/Users/lincoln.harris/code/funcotator/new_vcf/F2_10001000325.vcf', \n",
    "               '/Users/lincoln.harris/code/funcotator/new_vcf/H5_1001000317.vcf',\n",
    "               '/Users/lincoln.harris/code/funcotator/new_vcf/B7_1001000301.vcf',\n",
    "               '/Users/lincoln.harris/code/funcotator/new_vcf/A13_1001000340.vcf',\n",
    "               '/Users/lincoln.harris/code/funcotator/new_vcf/G13_1001000339.vcf']\n",
    "\n",
    "aa_mutation_finder.find_transcript_mutations(input_files, num_processes)"
   ]
  },
  {
   "cell_type": "code",
   "execution_count": null,
   "metadata": {},
   "outputs": [],
   "source": []
  }
 ],
 "metadata": {
  "kernelspec": {
   "display_name": "Python 3",
   "language": "python",
   "name": "python3"
  },
  "language_info": {
   "codemirror_mode": {
    "name": "ipython",
    "version": 3
   },
   "file_extension": ".py",
   "mimetype": "text/x-python",
   "name": "python",
   "nbconvert_exporter": "python",
   "pygments_lexer": "ipython3",
   "version": "3.6.9"
  }
 },
 "nbformat": 4,
 "nbformat_minor": 2
}
